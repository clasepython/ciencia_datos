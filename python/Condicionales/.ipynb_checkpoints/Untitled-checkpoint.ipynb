{
 "cells": [
  {
   "cell_type": "code",
   "execution_count": null,
   "metadata": {
    "collapsed": true
   },
   "outputs": [],
   "source": []
  },
  {
   "cell_type": "code",
   "execution_count": 38,
   "metadata": {},
   "outputs": [
    {
     "ename": "IndentationError",
     "evalue": "expected an indented block (<ipython-input-38-ad6e41c59e55>, line 5)",
     "output_type": "error",
     "traceback": [
      "\u001b[1;36m  File \u001b[1;32m\"<ipython-input-38-ad6e41c59e55>\"\u001b[1;36m, line \u001b[1;32m5\u001b[0m\n\u001b[1;33m    continue\u001b[0m\n\u001b[1;37m           ^\u001b[0m\n\u001b[1;31mIndentationError\u001b[0m\u001b[1;31m:\u001b[0m expected an indented block\n"
     ]
    }
   ],
   "source": [
    "\n",
    "for numero in listaNumeros:\n",
    "    if numero%3==0:\n",
    "\n",
    "    continue\n",
    "else:\n",
    "    print(numero)\n",
    "     \n",
    "       \n",
    "        \n"
   ]
  },
  {
   "cell_type": "code",
   "execution_count": 31,
   "metadata": {},
   "outputs": [
    {
     "name": "stdout",
     "output_type": "stream",
     "text": [
      "el numero es impar y es 1\n",
      "el numero es par y es el2\n",
      "el numero es impar y es 3\n",
      "el numero es par y es el4\n",
      "el numero es impar y es 5\n",
      "el numero es par y es el6\n",
      "el numero es impar y es 7\n",
      "el numero es par y es el8\n",
      "el numero es impar y es 9\n",
      "el numero es par y es el10\n",
      "el numero es impar y es 11\n"
     ]
    }
   ],
   "source": [
    "for numero in listaNumeros:\n",
    "    if numero %2==0:\n",
    "        print(\"el numero es par y es el\"+ str(numero))\n",
    "    elif numero %2!=0:\n",
    "        print(\"el numero es impar y es \"+ str(numero))\n",
    "    elif numero %5==0:\n",
    "        print(\"el numero es divisible por 5 y es \"+ str(numero))\n",
    "        \n",
    "    \n",
    "   \n",
    "    \n",
    "        \n",
    "            \n",
    "        "
   ]
  },
  {
   "cell_type": "code",
   "execution_count": 20,
   "metadata": {},
   "outputs": [
    {
     "name": "stdout",
     "output_type": "stream",
     "text": [
      "el numero es par y es el2\n",
      "el numero es par y es el4\n",
      "el numero es par y es el6\n"
     ]
    }
   ],
   "source": [
    "\n",
    "for numero in listaNumeros:\n",
    "    if numero %2==0:\n",
    "        print(\"el numero es par y es el\"+ str(numero))"
   ]
  },
  {
   "cell_type": "code",
   "execution_count": 21,
   "metadata": {},
   "outputs": [
    {
     "name": "stdout",
     "output_type": "stream",
     "text": [
      "1\n",
      "2\n",
      "3\n",
      "4\n",
      "5\n",
      "6\n",
      "7\n",
      "8\n",
      "9\n",
      "10\n",
      "11\n"
     ]
    }
   ],
   "source": [
    "listaNumeros=[1,2,3,4,5,6,7,8,9,10,11]\n",
    "for numero in listaNumeros:\n",
    "    print(numero)"
   ]
  },
  {
   "cell_type": "code",
   "execution_count": 19,
   "metadata": {},
   "outputs": [
    {
     "name": "stdout",
     "output_type": "stream",
     "text": [
      "1\n",
      "2\n",
      "3\n",
      "4\n",
      "5\n",
      "6\n"
     ]
    }
   ],
   "source": [
    "listaNumeros=[1,2,3,4,5,6]\n",
    "for numero in listaNumeros:\n",
    "    print(numero)"
   ]
  },
  {
   "cell_type": "code",
   "execution_count": 18,
   "metadata": {},
   "outputs": [
    {
     "name": "stdout",
     "output_type": "stream",
     "text": [
      "0\n",
      "1\n",
      "2\n",
      "3\n",
      "4\n",
      "5\n",
      "6\n",
      "7\n",
      "8\n",
      "9\n",
      "10\n"
     ]
    }
   ],
   "source": [
    "contador=0\n",
    "while contador<=10:\n",
    "    print(contador)\n",
    "    contador+=1"
   ]
  },
  {
   "cell_type": "code",
   "execution_count": 15,
   "metadata": {},
   "outputs": [
    {
     "name": "stdout",
     "output_type": "stream",
     "text": [
      "0\n",
      "1\n",
      "2\n",
      "3\n",
      "4\n",
      "5\n",
      "6\n",
      "7\n",
      "8\n",
      "9\n",
      "10\n"
     ]
    }
   ],
   "source": [
    "contador=0\n",
    "while contador<=10:\n",
    "    print(contador)\n",
    "    contador += 1"
   ]
  },
  {
   "cell_type": "markdown",
   "metadata": {},
   "source": [
    "sentencia while"
   ]
  },
  {
   "cell_type": "code",
   "execution_count": 14,
   "metadata": {},
   "outputs": [
    {
     "name": "stdout",
     "output_type": "stream",
     "text": [
      "es mayor de edad y es mujer y su edad es:25y sugenero es:f\n"
     ]
    }
   ],
   "source": [
    "generoAlumno=\"f\"\n",
    "edadAlumno=25\n",
    "municipio=\"medellin\"\n",
    "if edadAlumno >= 15 or generoAlumno==\"f\": \n",
    "    print(\"es mayor de edad y es mujer y su edad es:\" + str(edadAlumno)+  \"y sugenero es:\"+generoAlumno) \n",
    "else:\n",
    "    print(\"es menor de edad\")"
   ]
  },
  {
   "cell_type": "code",
   "execution_count": 10,
   "metadata": {},
   "outputs": [
    {
     "name": "stdout",
     "output_type": "stream",
     "text": [
      "es mayor de edad y es mujer y su edad es:18\n"
     ]
    }
   ],
   "source": [
    "generoAlumno=\"f\"\n",
    "edadAlumno=18\n",
    "if edadAlumno >= 15 or generoAlumno==\"f\": \n",
    "    print(\"es mayor de edad y es mujer y su edad es:\" + str(edadAlumno))\n",
    "else:\n",
    "    print(\"es menor de edad\")\n",
    "    \n",
    "        \n",
    " "
   ]
  },
  {
   "cell_type": "markdown",
   "metadata": {},
   "source": []
  },
  {
   "cell_type": "raw",
   "metadata": {},
   "source": []
  },
  {
   "cell_type": "code",
   "execution_count": 7,
   "metadata": {},
   "outputs": [
    {
     "name": "stdout",
     "output_type": "stream",
     "text": [
      "es mayor de edad\n"
     ]
    }
   ],
   "source": [
    "edadAlumnbo=18\n",
    "if edadAlumnbo >= 18:\n",
    "    print(\"es mayor de edad\")\n",
    "else:\n",
    "        print(\"es menor de edad\")"
   ]
  }
 ],
 "metadata": {
  "kernelspec": {
   "display_name": "Python 3",
   "language": "python",
   "name": "python3"
  },
  "language_info": {
   "codemirror_mode": {
    "name": "ipython",
    "version": 3
   },
   "file_extension": ".py",
   "mimetype": "text/x-python",
   "name": "python",
   "nbconvert_exporter": "python",
   "pygments_lexer": "ipython3",
   "version": "3.6.1"
  }
 },
 "nbformat": 4,
 "nbformat_minor": 2
}
